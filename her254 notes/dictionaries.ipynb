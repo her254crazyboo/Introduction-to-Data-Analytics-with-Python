{
 "cells": [
  {
   "cell_type": "code",
   "execution_count": 1,
   "id": "6925f0ec-5b13-4c4c-b701-3f28e5de5cde",
   "metadata": {},
   "outputs": [
    {
     "data": {
      "text/plain": [
       "'\\nin dictionaries we use {} calibrackets\\n'"
      ]
     },
     "execution_count": 1,
     "metadata": {},
     "output_type": "execute_result"
    }
   ],
   "source": [
    "\"\"\"\n",
    "in dictionaries we use {} calibrackets\n",
    "\"\"\""
   ]
  },
  {
   "cell_type": "code",
   "execution_count": 7,
   "id": "58630ef9-aac4-40ff-9d8f-295ec9dcd751",
   "metadata": {},
   "outputs": [
    {
     "name": "stdout",
     "output_type": "stream",
     "text": [
      "Salome\n"
     ]
    }
   ],
   "source": [
    "my_dic ={\n",
    "    \"name\":\"Salome\",\n",
    "    \"age\":24\n",
    "}\n",
    "\n",
    "print(my_dic[\"name\"]) "
   ]
  },
  {
   "cell_type": "code",
   "execution_count": 11,
   "id": "f52d58b6-6362-4074-ba6c-1fb543aa3758",
   "metadata": {},
   "outputs": [
    {
     "name": "stdout",
     "output_type": "stream",
     "text": [
      "Salome\n"
     ]
    }
   ],
   "source": [
    "my_dic ={\"name\":\"Salome\",\"age\":24}\n",
    "\n",
    "print(my_dic[\"name\"]) "
   ]
  },
  {
   "cell_type": "code",
   "execution_count": 25,
   "id": "4162cfc5-ad83-4c5d-981f-577c147c11f2",
   "metadata": {},
   "outputs": [],
   "source": [
    "my_dictionary={\"name\":\"person 1\",\"age\":35,\"salary\":600}"
   ]
  },
  {
   "cell_type": "code",
   "execution_count": 87,
   "id": "4b23c17f-8701-4b01-9f1a-f5cc72cd6b74",
   "metadata": {},
   "outputs": [],
   "source": [
    "my_dictionary ={\"name\":[\"person 1\",\"person 2\",\"person 3\",\"person 4\",\"person 5\"],\"age\":[35,100,34,456,67],\"salary\":[600,400,450,332,75000]}\n"
   ]
  },
  {
   "cell_type": "code",
   "execution_count": 45,
   "id": "96116365-939f-4571-ac20-43d48f2dc191",
   "metadata": {},
   "outputs": [],
   "source": [
    "my_dictionary[\"location\"] =[ \"Kakamega\",\"Mombasa\",\"Kisumu\",\"Moyale\",\"Marsabit\"] #adding of location to our list."
   ]
  },
  {
   "cell_type": "code",
   "execution_count": 47,
   "id": "8b02b86b-6b1e-4e63-b7ee-b57acba17432",
   "metadata": {},
   "outputs": [
    {
     "data": {
      "text/plain": [
       "{'name': 'person 1',\n",
       " 'age': 35,\n",
       " 'salary': 600,\n",
       " 'location': ['Kakamega', 'Mombasa', 'Kisumu', 'Moyale', 'Marsabit']}"
      ]
     },
     "execution_count": 47,
     "metadata": {},
     "output_type": "execute_result"
    }
   ],
   "source": [
    "my_dictionary"
   ]
  },
  {
   "cell_type": "code",
   "execution_count": 51,
   "id": "b7c00f3f-2c1a-4c84-aa7c-c3eeeab96199",
   "metadata": {},
   "outputs": [
    {
     "name": "stdout",
     "output_type": "stream",
     "text": [
      "{'name': 'person 1', 'age': 35, 'salary': 600, 'location': ['Kakamega', 'Mombasa', 'Kisumu', 'Moyale', 'Marsabit']}\n"
     ]
    }
   ],
   "source": [
    "print(my_dictionary) #gives the"
   ]
  },
  {
   "cell_type": "code",
   "execution_count": 63,
   "id": "6e344186-a451-4d12-b272-a6ae74accf63",
   "metadata": {},
   "outputs": [],
   "source": [
    "my_dictionary ={\"name\":[\"person 1\",\"person 2\",\"person 3\",\"person 4\",\"person 5\"],\"age\":[35,100,34,456,67],\"salary\":[600,400,450,332,75000]}\n"
   ]
  },
  {
   "cell_type": "code",
   "execution_count": 57,
   "id": "b721c6ac-48bb-49c8-a552-9f4cea3dbb8c",
   "metadata": {},
   "outputs": [
    {
     "name": "stdout",
     "output_type": "stream",
     "text": [
      "name person 1\n",
      "age 35\n",
      "salary 600\n",
      "location ['Kakamega', 'Mombasa', 'Kisumu', 'Moyale', 'Marsabit']\n"
     ]
    }
   ],
   "source": [
    "for key, value in my_dictionary. items(): #using for loop \n",
    "    print(key,value)"
   ]
  },
  {
   "cell_type": "code",
   "execution_count": 65,
   "id": "b1afaf5a-6074-47b6-8ea5-c8b82d64a08e",
   "metadata": {},
   "outputs": [],
   "source": [
    "my_dictionary ={\"name\":[\"person 1\",\"person 2\",\"person 3\",\"person 4\",\"person 5\"],\"age\":[35,100,34,456,67],\"salary\":[600,400,450,332,75000]}\n"
   ]
  },
  {
   "cell_type": "code",
   "execution_count": 67,
   "id": "753e46e3-3e80-4dd8-b71b-6beaf78c4a88",
   "metadata": {},
   "outputs": [
    {
     "data": {
      "text/plain": [
       "{'name': ['person 1', 'person 2', 'person 3', 'person 4', 'person 5'],\n",
       " 'age': [35, 100, 34, 456, 67],\n",
       " 'salary': [600, 400, 450, 332, 75000]}"
      ]
     },
     "execution_count": 67,
     "metadata": {},
     "output_type": "execute_result"
    }
   ],
   "source": [
    "my_dictionary #missing of commas/addition is vital as it can make you become stuck"
   ]
  },
  {
   "cell_type": "code",
   "execution_count": 69,
   "id": "4e64f904-1b36-4bc3-924d-734211f87c17",
   "metadata": {},
   "outputs": [
    {
     "name": "stdout",
     "output_type": "stream",
     "text": [
      "{'name': ['person 1', 'person 2', 'person 3', 'person 4', 'person 5'], 'age': [35, 100, 34, 456, 67], 'salary': [600, 400, 450, 332, 75000]}\n"
     ]
    }
   ],
   "source": [
    "print(my_dictionary)"
   ]
  },
  {
   "cell_type": "code",
   "execution_count": 71,
   "id": "6ee429a7-ccc1-4f10-b98b-e12ca6a87726",
   "metadata": {},
   "outputs": [
    {
     "name": "stdout",
     "output_type": "stream",
     "text": [
      "name ['person 1', 'person 2', 'person 3', 'person 4', 'person 5']\n",
      "age [35, 100, 34, 456, 67]\n",
      "salary [600, 400, 450, 332, 75000]\n"
     ]
    }
   ],
   "source": [
    "for key, value in my_dictionary. items():\n",
    "    print(key,value)"
   ]
  },
  {
   "cell_type": "code",
   "execution_count": 73,
   "id": "3c1919d5-be51-4260-9876-819dc0369c59",
   "metadata": {},
   "outputs": [],
   "source": [
    "\"\"\"\n",
    "to delete a word from the dictionary, use del\n",
    "\"\"\"\n",
    "del my_dictionary[\"age\"]"
   ]
  },
  {
   "cell_type": "code",
   "execution_count": 75,
   "id": "f36f5b02-4b26-434a-947e-1eb36986dfb4",
   "metadata": {},
   "outputs": [
    {
     "data": {
      "text/plain": [
       "{'name': ['person 1', 'person 2', 'person 3', 'person 4', 'person 5'],\n",
       " 'salary': [600, 400, 450, 332, 75000]}"
      ]
     },
     "execution_count": 75,
     "metadata": {},
     "output_type": "execute_result"
    }
   ],
   "source": [
    "my_dictionary"
   ]
  },
  {
   "cell_type": "code",
   "execution_count": 77,
   "id": "5a2bb8e2-ac15-4132-bb70-08e10277a433",
   "metadata": {},
   "outputs": [],
   "source": [
    "del my_dictionary[\"salary\"] #we want to remove the salary that these people are receiving"
   ]
  },
  {
   "cell_type": "code",
   "execution_count": 79,
   "id": "8d2371e0-f94e-470b-acd0-326ebdecb9ef",
   "metadata": {},
   "outputs": [
    {
     "data": {
      "text/plain": [
       "{'name': ['person 1', 'person 2', 'person 3', 'person 4', 'person 5']}"
      ]
     },
     "execution_count": 79,
     "metadata": {},
     "output_type": "execute_result"
    }
   ],
   "source": [
    "my_dictionary"
   ]
  },
  {
   "cell_type": "code",
   "execution_count": 91,
   "id": "eecd0abd-0b1a-4b7d-8069-3e1cf7547ddf",
   "metadata": {},
   "outputs": [
    {
     "name": "stdout",
     "output_type": "stream",
     "text": [
      "24\n"
     ]
    }
   ],
   "source": [
    "my_dic ={\"name\":\"Salome\",\"age\":24}\n",
    "\n",
    "print(my_dic[\"age\"]) "
   ]
  },
  {
   "cell_type": "code",
   "execution_count": 107,
   "id": "3d7326de-11c2-4512-8cf1-db5f3dc8055a",
   "metadata": {},
   "outputs": [
    {
     "name": "stdout",
     "output_type": "stream",
     "text": [
      "Tieng're\n"
     ]
    }
   ],
   "source": [
    "my_dic ={\"name\":\"Salome\",\"age\":24,\"location\":\"Tieng're\"}\n",
    "\n",
    "print(my_dic[\"location\"]) "
   ]
  },
  {
   "cell_type": "code",
   "execution_count": 113,
   "id": "4b9a8d03-9e6e-4f72-8b63-4bfb7026c9d7",
   "metadata": {},
   "outputs": [
    {
     "ename": "SyntaxError",
     "evalue": "cannot assign to function call here. Maybe you meant '==' instead of '='? (1024556734.py, line 1)",
     "output_type": "error",
     "traceback": [
      "\u001b[1;36m  Cell \u001b[1;32mIn[113], line 1\u001b[1;36m\u001b[0m\n\u001b[1;33m    my_dictionary(\"location\") =[\"Yala\"]\u001b[0m\n\u001b[1;37m    ^\u001b[0m\n\u001b[1;31mSyntaxError\u001b[0m\u001b[1;31m:\u001b[0m cannot assign to function call here. Maybe you meant '==' instead of '='?\n"
     ]
    }
   ],
   "source": [
    "my_dictionary(\"location\") =[\"Yala\"]"
   ]
  },
  {
   "cell_type": "code",
   "execution_count": 115,
   "id": "a20bebc2-6931-421e-93c2-c99e8972d041",
   "metadata": {},
   "outputs": [
    {
     "data": {
      "text/plain": [
       "'\\nDataFrames\\n\\n'"
      ]
     },
     "execution_count": 115,
     "metadata": {},
     "output_type": "execute_result"
    }
   ],
   "source": [
    "\"\"\"\n",
    "DataFrames-data structure that organizes data into 2D/2-dimensional table of rows and columns like a spreadsheet\n",
    "To acccess the data in a specific column, use the column name in square brackets i.e print(df[\"name\"])\n",
    "designed for data manipulation and analysis\n",
    "\n",
    "\"\"\""
   ]
  },
  {
   "cell_type": "code",
   "execution_count": 117,
   "id": "6aaff51a-acf2-4652-8244-85904f73fc5f",
   "metadata": {},
   "outputs": [],
   "source": [
    "import pandas as pd #importing library called Pandas, storing it in the variable called pd"
   ]
  },
  {
   "cell_type": "code",
   "execution_count": 123,
   "id": "5b2cbab0-d065-43a3-9f93-d18a30997aea",
   "metadata": {},
   "outputs": [
    {
     "data": {
      "text/plain": [
       "{'name': ['person 1', 'person 2', 'person 3', 'person 4', 'person 5'],\n",
       " 'age': [35, 100, 34, 456, 67],\n",
       " 'salary': [600, 400, 450, 332, 75000]}"
      ]
     },
     "execution_count": 123,
     "metadata": {},
     "output_type": "execute_result"
    }
   ],
   "source": [
    "my_dictionary"
   ]
  },
  {
   "cell_type": "code",
   "execution_count": 125,
   "id": "5db554a2-1195-4793-bd98-534b47511b63",
   "metadata": {},
   "outputs": [],
   "source": [
    "df=pd.DataFrame(my_dictionary)"
   ]
  },
  {
   "cell_type": "code",
   "execution_count": 127,
   "id": "8b4210a9-649f-4ead-8c8b-6f8ffa5f27be",
   "metadata": {},
   "outputs": [
    {
     "data": {
      "text/html": [
       "<div>\n",
       "<style scoped>\n",
       "    .dataframe tbody tr th:only-of-type {\n",
       "        vertical-align: middle;\n",
       "    }\n",
       "\n",
       "    .dataframe tbody tr th {\n",
       "        vertical-align: top;\n",
       "    }\n",
       "\n",
       "    .dataframe thead th {\n",
       "        text-align: right;\n",
       "    }\n",
       "</style>\n",
       "<table border=\"1\" class=\"dataframe\">\n",
       "  <thead>\n",
       "    <tr style=\"text-align: right;\">\n",
       "      <th></th>\n",
       "      <th>name</th>\n",
       "      <th>age</th>\n",
       "      <th>salary</th>\n",
       "    </tr>\n",
       "  </thead>\n",
       "  <tbody>\n",
       "    <tr>\n",
       "      <th>0</th>\n",
       "      <td>person 1</td>\n",
       "      <td>35</td>\n",
       "      <td>600</td>\n",
       "    </tr>\n",
       "    <tr>\n",
       "      <th>1</th>\n",
       "      <td>person 2</td>\n",
       "      <td>100</td>\n",
       "      <td>400</td>\n",
       "    </tr>\n",
       "    <tr>\n",
       "      <th>2</th>\n",
       "      <td>person 3</td>\n",
       "      <td>34</td>\n",
       "      <td>450</td>\n",
       "    </tr>\n",
       "    <tr>\n",
       "      <th>3</th>\n",
       "      <td>person 4</td>\n",
       "      <td>456</td>\n",
       "      <td>332</td>\n",
       "    </tr>\n",
       "    <tr>\n",
       "      <th>4</th>\n",
       "      <td>person 5</td>\n",
       "      <td>67</td>\n",
       "      <td>75000</td>\n",
       "    </tr>\n",
       "  </tbody>\n",
       "</table>\n",
       "</div>"
      ],
      "text/plain": [
       "       name  age  salary\n",
       "0  person 1   35     600\n",
       "1  person 2  100     400\n",
       "2  person 3   34     450\n",
       "3  person 4  456     332\n",
       "4  person 5   67   75000"
      ]
     },
     "execution_count": 127,
     "metadata": {},
     "output_type": "execute_result"
    }
   ],
   "source": [
    "df #df is the variable that gives the command to store the values"
   ]
  },
  {
   "cell_type": "code",
   "execution_count": 129,
   "id": "5becb7f2-9611-4879-af7f-3fc8e14d30d2",
   "metadata": {},
   "outputs": [
    {
     "name": "stdout",
     "output_type": "stream",
     "text": [
      "0    person 1\n",
      "1    person 2\n",
      "2    person 3\n",
      "3    person 4\n",
      "4    person 5\n",
      "Name: name, dtype: object\n"
     ]
    }
   ],
   "source": [
    "print(df[\"name\"]) #accessing data in a DataFrame, using name rep byb[]"
   ]
  },
  {
   "cell_type": "code",
   "execution_count": 131,
   "id": "44834b64-1361-48e6-a78a-902ea94504e2",
   "metadata": {},
   "outputs": [
    {
     "name": "stdout",
     "output_type": "stream",
     "text": [
      "0      600\n",
      "1      400\n",
      "2      450\n",
      "3      332\n",
      "4    75000\n",
      "Name: salary, dtype: int64\n"
     ]
    }
   ],
   "source": [
    "print(df[\"salary\"]) #accessing data "
   ]
  },
  {
   "cell_type": "code",
   "execution_count": 135,
   "id": "edc5a349-52f5-4ed9-a73b-3180799d2da6",
   "metadata": {},
   "outputs": [
    {
     "name": "stdout",
     "output_type": "stream",
     "text": [
      "   salary      name\n",
      "0     600  person 1\n",
      "1     400  person 2\n",
      "2     450  person 3\n",
      "3     332  person 4\n",
      "4   75000  person 5\n"
     ]
    }
   ],
   "source": [
    "print(df[[\"salary\",\"name\"]]) #to access more than two columns or two we use two square brackets"
   ]
  },
  {
   "cell_type": "code",
   "execution_count": 166,
   "id": "045838bd-c252-4bfc-9680-3843e19db9a0",
   "metadata": {},
   "outputs": [],
   "source": [
    "my_dictionary ={\"name\":[\"person 1\",\"person 2\",\"person 3\",\"person 4\",\"person 5\"],\"age\":[35,100,34,456,67],\"salary\":[600,400,450,332,75000]}\n"
   ]
  },
  {
   "cell_type": "code",
   "execution_count": 170,
   "id": "1fdf3188-c6ca-4e85-bacb-072f23caef0d",
   "metadata": {},
   "outputs": [],
   "source": [
    "import pandas as pd"
   ]
  },
  {
   "cell_type": "code",
   "execution_count": null,
   "id": "c7f7ef6b-3ec1-4a5c-b4f2-8e6759cfed6c",
   "metadata": {},
   "outputs": [],
   "source": []
  },
  {
   "cell_type": "code",
   "execution_count": 172,
   "id": "b790788e-0f26-4ee0-8e9c-a5f2786e7df1",
   "metadata": {},
   "outputs": [],
   "source": [
    "df=pd.DataFrame(my_dictionary)"
   ]
  },
  {
   "cell_type": "code",
   "execution_count": 174,
   "id": "31b86535-8868-4057-87ee-f45e11f09bfe",
   "metadata": {},
   "outputs": [
    {
     "data": {
      "text/html": [
       "<div>\n",
       "<style scoped>\n",
       "    .dataframe tbody tr th:only-of-type {\n",
       "        vertical-align: middle;\n",
       "    }\n",
       "\n",
       "    .dataframe tbody tr th {\n",
       "        vertical-align: top;\n",
       "    }\n",
       "\n",
       "    .dataframe thead th {\n",
       "        text-align: right;\n",
       "    }\n",
       "</style>\n",
       "<table border=\"1\" class=\"dataframe\">\n",
       "  <thead>\n",
       "    <tr style=\"text-align: right;\">\n",
       "      <th></th>\n",
       "      <th>name</th>\n",
       "      <th>age</th>\n",
       "      <th>salary</th>\n",
       "    </tr>\n",
       "  </thead>\n",
       "  <tbody>\n",
       "    <tr>\n",
       "      <th>0</th>\n",
       "      <td>person 1</td>\n",
       "      <td>35</td>\n",
       "      <td>600</td>\n",
       "    </tr>\n",
       "    <tr>\n",
       "      <th>1</th>\n",
       "      <td>person 2</td>\n",
       "      <td>100</td>\n",
       "      <td>400</td>\n",
       "    </tr>\n",
       "    <tr>\n",
       "      <th>2</th>\n",
       "      <td>person 3</td>\n",
       "      <td>34</td>\n",
       "      <td>450</td>\n",
       "    </tr>\n",
       "    <tr>\n",
       "      <th>3</th>\n",
       "      <td>person 4</td>\n",
       "      <td>456</td>\n",
       "      <td>332</td>\n",
       "    </tr>\n",
       "    <tr>\n",
       "      <th>4</th>\n",
       "      <td>person 5</td>\n",
       "      <td>67</td>\n",
       "      <td>75000</td>\n",
       "    </tr>\n",
       "  </tbody>\n",
       "</table>\n",
       "</div>"
      ],
      "text/plain": [
       "       name  age  salary\n",
       "0  person 1   35     600\n",
       "1  person 2  100     400\n",
       "2  person 3   34     450\n",
       "3  person 4  456     332\n",
       "4  person 5   67   75000"
      ]
     },
     "execution_count": 174,
     "metadata": {},
     "output_type": "execute_result"
    }
   ],
   "source": [
    "df"
   ]
  },
  {
   "cell_type": "code",
   "execution_count": 178,
   "id": "55129260-fca0-40c5-88b9-dd457c894e1a",
   "metadata": {},
   "outputs": [
    {
     "data": {
      "text/plain": [
       "0     36\n",
       "1    101\n",
       "2     35\n",
       "3    457\n",
       "4     68\n",
       "Name: age, dtype: int64"
      ]
     },
     "execution_count": 178,
     "metadata": {},
     "output_type": "execute_result"
    }
   ],
   "source": [
    "df[\"age\"] +1  #missing a vital step, incorrect answers"
   ]
  },
  {
   "cell_type": "code",
   "execution_count": 176,
   "id": "9bfab0cc-5a54-4f0e-9294-1d6fee3b51ad",
   "metadata": {},
   "outputs": [
    {
     "data": {
      "text/plain": [
       "0     36\n",
       "1    101\n",
       "2     35\n",
       "3    457\n",
       "4     68\n",
       "Name: age, dtype: int64"
      ]
     },
     "execution_count": 176,
     "metadata": {},
     "output_type": "execute_result"
    }
   ],
   "source": [
    "df[\"age\"] +1"
   ]
  },
  {
   "cell_type": "code",
   "execution_count": 180,
   "id": "41458f04-d13a-4f09-8027-0a55f05e8540",
   "metadata": {},
   "outputs": [],
   "source": [
    "df[\"age\"] = df[\"age\"] +1"
   ]
  },
  {
   "cell_type": "code",
   "execution_count": 196,
   "id": "201e546a-cf40-4b27-bb07-ba9c42b8452d",
   "metadata": {},
   "outputs": [
    {
     "data": {
      "text/plain": [
       "0     36\n",
       "1    101\n",
       "2     35\n",
       "3    457\n",
       "4     68\n",
       "Name: age, dtype: int64"
      ]
     },
     "execution_count": 196,
     "metadata": {},
     "output_type": "execute_result"
    }
   ],
   "source": [
    "df [\"age\"]"
   ]
  },
  {
   "cell_type": "code",
   "execution_count": 198,
   "id": "078ab5e4-2517-4211-ab29-4fa7e3949d72",
   "metadata": {},
   "outputs": [],
   "source": [
    "df [\"age\"] = df[\"age\"] +1"
   ]
  },
  {
   "cell_type": "code",
   "execution_count": 202,
   "id": "e692c29e-ee7b-45b5-8016-30d9975fb413",
   "metadata": {},
   "outputs": [
    {
     "data": {
      "text/plain": [
       "0     37\n",
       "1    102\n",
       "2     36\n",
       "3    458\n",
       "4     69\n",
       "Name: age, dtype: int64"
      ]
     },
     "execution_count": 202,
     "metadata": {},
     "output_type": "execute_result"
    }
   ],
   "source": [
    "df [\"age\"]"
   ]
  },
  {
   "cell_type": "code",
   "execution_count": 186,
   "id": "f9cab304-02b4-4824-ba39-5ea5f7956c0f",
   "metadata": {},
   "outputs": [],
   "source": [
    "import pandas as pd"
   ]
  },
  {
   "cell_type": "code",
   "execution_count": 206,
   "id": "f2a760a8-722f-422f-a581-601825a67bfb",
   "metadata": {},
   "outputs": [],
   "source": [
    "df[\"salary\"] = df[\"salary\"] +1"
   ]
  },
  {
   "cell_type": "code",
   "execution_count": 208,
   "id": "bf1b8352-109f-4e2f-bfa5-c7feea13e663",
   "metadata": {},
   "outputs": [
    {
     "data": {
      "text/plain": [
       "0      601\n",
       "1      401\n",
       "2      451\n",
       "3      333\n",
       "4    75001\n",
       "Name: salary, dtype: int64"
      ]
     },
     "execution_count": 208,
     "metadata": {},
     "output_type": "execute_result"
    }
   ],
   "source": [
    "df [\"salary\"]"
   ]
  },
  {
   "cell_type": "code",
   "execution_count": 214,
   "id": "d23ed3bb-5a37-49d2-b7d7-e6570cbc5056",
   "metadata": {},
   "outputs": [
    {
     "data": {
      "text/plain": [
       "name      object\n",
       "age        int64\n",
       "salary     int64\n",
       "dtype: object"
      ]
     },
     "execution_count": 214,
     "metadata": {},
     "output_type": "execute_result"
    }
   ],
   "source": [
    "df.dtypes"
   ]
  },
  {
   "cell_type": "code",
   "execution_count": 250,
   "id": "d8b4ee4e-cce8-4ad0-8363-27bd7c857815",
   "metadata": {},
   "outputs": [],
   "source": [
    "df[\"age\"], df[\"salary\"] = df[\"age\"]+1, df[\"salary\"]+500  #to get for both column for age and salary"
   ]
  },
  {
   "cell_type": "code",
   "execution_count": 252,
   "id": "0067ed1a-a317-445c-ab07-1b6b2335caa4",
   "metadata": {},
   "outputs": [
    {
     "data": {
      "text/html": [
       "<div>\n",
       "<style scoped>\n",
       "    .dataframe tbody tr th:only-of-type {\n",
       "        vertical-align: middle;\n",
       "    }\n",
       "\n",
       "    .dataframe tbody tr th {\n",
       "        vertical-align: top;\n",
       "    }\n",
       "\n",
       "    .dataframe thead th {\n",
       "        text-align: right;\n",
       "    }\n",
       "</style>\n",
       "<table border=\"1\" class=\"dataframe\">\n",
       "  <thead>\n",
       "    <tr style=\"text-align: right;\">\n",
       "      <th></th>\n",
       "      <th>name</th>\n",
       "      <th>age</th>\n",
       "      <th>salary</th>\n",
       "    </tr>\n",
       "  </thead>\n",
       "  <tbody>\n",
       "    <tr>\n",
       "      <th>0</th>\n",
       "      <td>person 1</td>\n",
       "      <td>38</td>\n",
       "      <td>1101</td>\n",
       "    </tr>\n",
       "    <tr>\n",
       "      <th>1</th>\n",
       "      <td>person 2</td>\n",
       "      <td>103</td>\n",
       "      <td>901</td>\n",
       "    </tr>\n",
       "    <tr>\n",
       "      <th>2</th>\n",
       "      <td>person 3</td>\n",
       "      <td>37</td>\n",
       "      <td>951</td>\n",
       "    </tr>\n",
       "    <tr>\n",
       "      <th>3</th>\n",
       "      <td>person 4</td>\n",
       "      <td>459</td>\n",
       "      <td>833</td>\n",
       "    </tr>\n",
       "    <tr>\n",
       "      <th>4</th>\n",
       "      <td>person 5</td>\n",
       "      <td>70</td>\n",
       "      <td>75501</td>\n",
       "    </tr>\n",
       "  </tbody>\n",
       "</table>\n",
       "</div>"
      ],
      "text/plain": [
       "       name  age  salary\n",
       "0  person 1   38    1101\n",
       "1  person 2  103     901\n",
       "2  person 3   37     951\n",
       "3  person 4  459     833\n",
       "4  person 5   70   75501"
      ]
     },
     "execution_count": 252,
     "metadata": {},
     "output_type": "execute_result"
    }
   ],
   "source": [
    "df"
   ]
  },
  {
   "cell_type": "code",
   "execution_count": null,
   "id": "bca7c169-9080-4492-b1fa-6ad8b2171554",
   "metadata": {},
   "outputs": [],
   "source": []
  }
 ],
 "metadata": {
  "kernelspec": {
   "display_name": "Python 3 (ipykernel)",
   "language": "python",
   "name": "python3"
  },
  "language_info": {
   "codemirror_mode": {
    "name": "ipython",
    "version": 3
   },
   "file_extension": ".py",
   "mimetype": "text/x-python",
   "name": "python",
   "nbconvert_exporter": "python",
   "pygments_lexer": "ipython3",
   "version": "3.12.4"
  }
 },
 "nbformat": 4,
 "nbformat_minor": 5
}
