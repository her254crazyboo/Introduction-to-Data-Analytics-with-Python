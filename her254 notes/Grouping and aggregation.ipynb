{
 "cells": [
  {
   "cell_type": "markdown",
   "id": "0b8ee9f4-2089-41a7-b44f-dcd6509ad26e",
   "metadata": {},
   "source": [
    "##Grouping and Aggregation\n",
    "we want to drop data by department"
   ]
  },
  {
   "cell_type": "code",
   "execution_count": null,
   "id": "27e900a2-9808-4b26-88ac-fb82e381b26c",
   "metadata": {},
   "outputs": [],
   "source": [
    "grouped = df.groupby"
   ]
  }
 ],
 "metadata": {
  "kernelspec": {
   "display_name": "Python 3 (ipykernel)",
   "language": "python",
   "name": "python3"
  },
  "language_info": {
   "codemirror_mode": {
    "name": "ipython",
    "version": 3
   },
   "file_extension": ".py",
   "mimetype": "text/x-python",
   "name": "python",
   "nbconvert_exporter": "python",
   "pygments_lexer": "ipython3",
   "version": "3.12.4"
  }
 },
 "nbformat": 4,
 "nbformat_minor": 5
}
