{
 "cells": [
  {
   "cell_type": "code",
   "execution_count": 3,
   "id": "4531769d-6729-449c-ab60-17d778a30123",
   "metadata": {},
   "outputs": [],
   "source": [
    "\n",
    "def family():\n",
    "    print(\"Family members\")"
   ]
  },
  {
   "cell_type": "code",
   "execution_count": 5,
   "id": "6d9aee43-4f6d-4107-99e7-f04976a4987c",
   "metadata": {},
   "outputs": [
    {
     "name": "stdout",
     "output_type": "stream",
     "text": [
      " family members\n"
     ]
    }
   ],
   "source": [
    "family()"
   ]
  },
  {
   "cell_type": "code",
   "execution_count": 7,
   "id": "a20dcc22-dce3-41c3-8349-46137cb6896c",
   "metadata": {},
   "outputs": [],
   "source": [
    "def GenZ():\n",
    "    print(\"RutoMustGo\")"
   ]
  },
  {
   "cell_type": "code",
   "execution_count": 9,
   "id": "f50625f3-f121-4b40-a847-4b0a35c3c0d5",
   "metadata": {},
   "outputs": [
    {
     "name": "stdout",
     "output_type": "stream",
     "text": [
      "RutoMustGo\n"
     ]
    }
   ],
   "source": [
    "GenZ()"
   ]
  },
  {
   "cell_type": "code",
   "execution_count": 19,
   "id": "48d97462-9d3e-4ef8-ba37-00f2dc9b4a2d",
   "metadata": {},
   "outputs": [],
   "source": [
    "def add(a,b):\n",
    "    result =a+b\n"
   ]
  },
  {
   "cell_type": "code",
   "execution_count": 21,
   "id": "6540e2fa-4481-4dde-b4e0-d5f462c0d771",
   "metadata": {},
   "outputs": [],
   "source": [
    "add (6,6)"
   ]
  },
  {
   "cell_type": "code",
   "execution_count": 17,
   "id": "1fb33ccb-138e-4942-9dc3-9f16bd30b4b9",
   "metadata": {},
   "outputs": [
    {
     "name": "stdout",
     "output_type": "stream",
     "text": [
      "12\n"
     ]
    }
   ],
   "source": [
    "x= add (6,6) #wrong function"
   ]
  },
  {
   "cell_type": "code",
   "execution_count": 69,
   "id": "481cf6af-22eb-47da-ba2e-b56a2a7cfc1b",
   "metadata": {},
   "outputs": [],
   "source": [
    "def add(a,b): #more work to better understand how to create functions\n",
    "    result =a+b\n",
    "    \n",
    "    return result #sends result back to the caller"
   ]
  },
  {
   "cell_type": "code",
   "execution_count": 27,
   "id": "feb135e8-50b4-40c9-9a35-f7b7c5cc7d5e",
   "metadata": {},
   "outputs": [
    {
     "name": "stdout",
     "output_type": "stream",
     "text": [
      "17\n"
     ]
    },
    {
     "data": {
      "text/plain": [
       "17"
      ]
     },
     "execution_count": 27,
     "metadata": {},
     "output_type": "execute_result"
    }
   ],
   "source": [
    "add (8,9)"
   ]
  },
  {
   "cell_type": "code",
   "execution_count": 29,
   "id": "c8dde743-f4a7-4ea4-a17b-50534d232a08",
   "metadata": {},
   "outputs": [
    {
     "name": "stdout",
     "output_type": "stream",
     "text": [
      "17\n"
     ]
    }
   ],
   "source": [
    "x= add(8,9)"
   ]
  },
  {
   "cell_type": "code",
   "execution_count": 31,
   "id": "0f0fa6be-1e8a-4d2a-905f-8f7dff568a79",
   "metadata": {},
   "outputs": [
    {
     "data": {
      "text/plain": [
       "17"
      ]
     },
     "execution_count": 31,
     "metadata": {},
     "output_type": "execute_result"
    }
   ],
   "source": [
    "x"
   ]
  },
  {
   "cell_type": "code",
   "execution_count": 9,
   "id": "50616e34-4a75-406c-a5ee-be76d87c12fb",
   "metadata": {},
   "outputs": [],
   "source": [
    "def add(a,b): #more work to better understand how to create functions\n",
    "    result =a+b\n",
    "\n",
    "    return result"
   ]
  },
  {
   "cell_type": "code",
   "execution_count": 11,
   "id": "5abe2353-9e0c-41c7-988e-89fa6eb9b012",
   "metadata": {},
   "outputs": [
    {
     "name": "stdout",
     "output_type": "stream",
     "text": [
      "76\n"
     ]
    }
   ],
   "source": [
    "a = add (13,63)"
   ]
  },
  {
   "cell_type": "code",
   "execution_count": 19,
   "id": "ab3db023-f046-4b97-9c36-733116d4e706",
   "metadata": {},
   "outputs": [],
   "source": [
    "a"
   ]
  },
  {
   "cell_type": "code",
   "execution_count": 21,
   "id": "f63a6e2c-3b79-42cd-83c5-b9b0e43f150f",
   "metadata": {},
   "outputs": [
    {
     "ename": "NameError",
     "evalue": "name 'b' is not defined",
     "output_type": "error",
     "traceback": [
      "\u001b[1;31m---------------------------------------------------------------------------\u001b[0m",
      "\u001b[1;31mNameError\u001b[0m                                 Traceback (most recent call last)",
      "Cell \u001b[1;32mIn[21], line 1\u001b[0m\n\u001b[1;32m----> 1\u001b[0m b\n",
      "\u001b[1;31mNameError\u001b[0m: name 'b' is not defined"
     ]
    }
   ],
   "source": [
    " b"
   ]
  },
  {
   "cell_type": "code",
   "execution_count": 53,
   "id": "74a9fd83-d81e-4f17-970a-3f2df172bfbe",
   "metadata": {},
   "outputs": [
    {
     "data": {
      "text/plain": [
       "4"
      ]
     },
     "execution_count": 53,
     "metadata": {},
     "output_type": "execute_result"
    }
   ],
   "source": [
    "min (4,5,1000)"
   ]
  },
  {
   "cell_type": "code",
   "execution_count": 57,
   "id": "d186d3a5-360b-4df1-b822-9a075515ef11",
   "metadata": {},
   "outputs": [
    {
     "data": {
      "text/plain": [
       "90"
      ]
     },
     "execution_count": 57,
     "metadata": {},
     "output_type": "execute_result"
    }
   ],
   "source": [
    "max (3, 90, 2) #max-inbuilt python codes"
   ]
  },
  {
   "cell_type": "code",
   "execution_count": 61,
   "id": "dab85efb-b51c-4c96-8b25-d159e292f51f",
   "metadata": {},
   "outputs": [
    {
     "data": {
      "text/plain": [
       "6"
      ]
     },
     "execution_count": 61,
     "metadata": {},
     "output_type": "execute_result"
    }
   ],
   "source": [
    "len (\"Salome\")"
   ]
  },
  {
   "cell_type": "code",
   "execution_count": null,
   "id": "1595005c-5ca0-4f46-ab47-471e590d1457",
   "metadata": {},
   "outputs": [],
   "source": []
  },
  {
   "cell_type": "code",
   "execution_count": null,
   "id": "f37ba7d1-5848-4923-9896-9b6583fd271e",
   "metadata": {},
   "outputs": [],
   "source": []
  }
 ],
 "metadata": {
  "kernelspec": {
   "display_name": "Python 3 (ipykernel)",
   "language": "python",
   "name": "python3"
  },
  "language_info": {
   "codemirror_mode": {
    "name": "ipython",
    "version": 3
   },
   "file_extension": ".py",
   "mimetype": "text/x-python",
   "name": "python",
   "nbconvert_exporter": "python",
   "pygments_lexer": "ipython3",
   "version": "3.12.4"
  }
 },
 "nbformat": 4,
 "nbformat_minor": 5
}
