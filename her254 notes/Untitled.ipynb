{
 "cells": [
  {
   "cell_type": "code",
   "execution_count": 1,
   "id": "808d5dd5-fbba-44f4-b167-e0f50166443f",
   "metadata": {},
   "outputs": [],
   "source": [
    "first= \"Salome\"\n",
    "second= \"Moraa\"\n",
    "third = \"Kibagendi\""
   ]
  },
  {
   "cell_type": "code",
   "execution_count": 5,
   "id": "c6a5bdf5-2102-4259-9515-20da8a445086",
   "metadata": {},
   "outputs": [
    {
     "data": {
      "text/plain": [
       "'SalomeMoraaKibagendi'"
      ]
     },
     "execution_count": 5,
     "metadata": {},
     "output_type": "execute_result"
    }
   ],
   "source": [
    "first+second+third #+represesnts concatenation"
   ]
  },
  {
   "cell_type": "code",
   "execution_count": 15,
   "id": "3f83aa28-0427-4f45-8a16-83ccf3408fb5",
   "metadata": {},
   "outputs": [
    {
     "data": {
      "text/plain": [
       "'Salome Moraa Kibagendi'"
      ]
     },
     "execution_count": 15,
     "metadata": {},
     "output_type": "execute_result"
    }
   ],
   "source": [
    "first+ \" \"+second+ \" \"+third  #multiple quotes and space rep spacing "
   ]
  },
  {
   "cell_type": "code",
   "execution_count": 17,
   "id": "fbc0e287-18af-480d-a43b-207ddb6aad2e",
   "metadata": {},
   "outputs": [
    {
     "data": {
      "text/plain": [
       "'SalomeSalome'"
      ]
     },
     "execution_count": 17,
     "metadata": {},
     "output_type": "execute_result"
    }
   ],
   "source": [
    "first*2 #*rep repetition"
   ]
  },
  {
   "cell_type": "code",
   "execution_count": 19,
   "id": "abb5e750-35bc-407e-a3c2-3062750daeea",
   "metadata": {},
   "outputs": [
    {
     "data": {
      "text/plain": [
       "'MoraaMoraaMoraa'"
      ]
     },
     "execution_count": 19,
     "metadata": {},
     "output_type": "execute_result"
    }
   ],
   "source": [
    "second*3"
   ]
  },
  {
   "cell_type": "code",
   "execution_count": 44,
   "id": "7a901c6f-3cf3-4872-93d3-60775b0ec1c0",
   "metadata": {},
   "outputs": [],
   "source": [
    "second =\"Moraa\" #Indexing is rep by square brackets[]"
   ]
  },
  {
   "cell_type": "code",
   "execution_count": 46,
   "id": "ed882ae2-5e66-446c-96ca-c6b6849f351c",
   "metadata": {},
   "outputs": [
    {
     "data": {
      "text/plain": [
       "'M'"
      ]
     },
     "execution_count": 46,
     "metadata": {},
     "output_type": "execute_result"
    }
   ],
   "source": [
    "second[0]"
   ]
  },
  {
   "cell_type": "code",
   "execution_count": 48,
   "id": "4e2bcf53-74ac-4838-a1d1-0739d21edf0d",
   "metadata": {},
   "outputs": [
    {
     "data": {
      "text/plain": [
       "'M'"
      ]
     },
     "execution_count": 48,
     "metadata": {},
     "output_type": "execute_result"
    }
   ],
   "source": [
    "second [0]"
   ]
  },
  {
   "cell_type": "code",
   "execution_count": 50,
   "id": "e2a76c8a-f54a-45b8-9638-21286644de82",
   "metadata": {},
   "outputs": [
    {
     "data": {
      "text/plain": [
       "'o'"
      ]
     },
     "execution_count": 50,
     "metadata": {},
     "output_type": "execute_result"
    }
   ],
   "source": [
    "second [1]"
   ]
  },
  {
   "cell_type": "code",
   "execution_count": 52,
   "id": "9232ce4e-a9d5-482f-a8d0-6d9cc22ddf92",
   "metadata": {},
   "outputs": [
    {
     "data": {
      "text/plain": [
       "'Salome Moraa'"
      ]
     },
     "execution_count": 52,
     "metadata": {},
     "output_type": "execute_result"
    }
   ],
   "source": [
    "fullname=first+\" \"+second\n",
    "fullname"
   ]
  },
  {
   "cell_type": "code",
   "execution_count": 54,
   "id": "bb7d4008-12f4-443f-b33f-50b9399a583b",
   "metadata": {},
   "outputs": [
    {
     "data": {
      "text/plain": [
       "'Salome '"
      ]
     },
     "execution_count": 54,
     "metadata": {},
     "output_type": "execute_result"
    }
   ],
   "source": [
    "fullname[0:7] #colon gives the command to count from the number 0 to the last number in the word"
   ]
  },
  {
   "cell_type": "code",
   "execution_count": 70,
   "id": "d5625e78-df44-48a5-80d5-37b67dc861d2",
   "metadata": {},
   "outputs": [
    {
     "data": {
      "text/plain": [
       "'Moraa'"
      ]
     },
     "execution_count": 70,
     "metadata": {},
     "output_type": "execute_result"
    }
   ],
   "source": [
    "fullname[7:13] #python counts the steps, including the spaces, when one wants to derive only a word it's called slicing"
   ]
  },
  {
   "cell_type": "code",
   "execution_count": 72,
   "id": "6e59695b-9dec-460a-8b95-6abe7d3fb2c6",
   "metadata": {},
   "outputs": [
    {
     "data": {
      "text/plain": [
       "'Moraa Kibagendi'"
      ]
     },
     "execution_count": 72,
     "metadata": {},
     "output_type": "execute_result"
    }
   ],
   "source": [
    "fullname=second+\" \"+third\n",
    "fullname"
   ]
  },
  {
   "cell_type": "code",
   "execution_count": 76,
   "id": "318bd626-e21f-4227-8e00-36c1884900f2",
   "metadata": {},
   "outputs": [
    {
     "data": {
      "text/plain": [
       "'Moraa'"
      ]
     },
     "execution_count": 76,
     "metadata": {},
     "output_type": "execute_result"
    }
   ],
   "source": [
    "fullname[0:5]"
   ]
  },
  {
   "cell_type": "code",
   "execution_count": 80,
   "id": "44a978be-1f34-40e3-8939-9ed6edb92731",
   "metadata": {},
   "outputs": [
    {
     "data": {
      "text/plain": [
       "'Kibagendi'"
      ]
     },
     "execution_count": 80,
     "metadata": {},
     "output_type": "execute_result"
    }
   ],
   "source": [
    "fullname[6:16]"
   ]
  },
  {
   "cell_type": "code",
   "execution_count": 85,
   "id": "02e8306b-fe5e-4f4f-af0f-5ff6df5ff638",
   "metadata": {},
   "outputs": [
    {
     "name": "stdin",
     "output_type": "stream",
     "text": [
      "enter first name  salome\n"
     ]
    }
   ],
   "source": [
    "name=input(\"enter first name \")"
   ]
  },
  {
   "cell_type": "code",
   "execution_count": 87,
   "id": "d7643e0b-13a8-42df-a112-be89de2867d8",
   "metadata": {},
   "outputs": [
    {
     "name": "stdin",
     "output_type": "stream",
     "text": [
      "enter second name:  Moraa\n"
     ]
    }
   ],
   "source": [
    "name=input(\"enter second name: \") #after input click enter for python to understand you're done."
   ]
  },
  {
   "cell_type": "code",
   "execution_count": 89,
   "id": "bd4885c8-b430-40d0-872e-2a88322fa619",
   "metadata": {},
   "outputs": [
    {
     "name": "stdout",
     "output_type": "stream",
     "text": [
      "Moraa\n"
     ]
    }
   ],
   "source": [
    "print(name) "
   ]
  },
  {
   "cell_type": "code",
   "execution_count": 93,
   "id": "d47c6d3c-d437-49ea-b160-1d06ed2694ff",
   "metadata": {},
   "outputs": [
    {
     "name": "stdin",
     "output_type": "stream",
     "text": [
      "enter third name:  Kibagendi\n"
     ]
    }
   ],
   "source": [
    "name=input(\"enter third name: \")\n",
    " "
   ]
  },
  {
   "cell_type": "code",
   "execution_count": 95,
   "id": "02c0e404-9daf-4f03-94ce-cf9831385b31",
   "metadata": {},
   "outputs": [
    {
     "name": "stdout",
     "output_type": "stream",
     "text": [
      "Kibagendi\n"
     ]
    }
   ],
   "source": [
    "print(name)"
   ]
  },
  {
   "cell_type": "code",
   "execution_count": 97,
   "id": "0560b0da-bf8a-472d-a3f0-8464a784ce9d",
   "metadata": {},
   "outputs": [
    {
     "name": "stdout",
     "output_type": "stream",
     "text": [
      "0\n",
      "1\n",
      "2\n",
      "3\n",
      "4\n",
      "5\n",
      "6\n",
      "7\n",
      "8\n",
      "9\n",
      "10\n"
     ]
    }
   ],
   "source": [
    "for i in range (11): #i rep iteration-conditions being met\n",
    "    print(i)"
   ]
  },
  {
   "cell_type": "code",
   "execution_count": 108,
   "id": "98c5788c-64e3-4924-8fde-6d3532093eec",
   "metadata": {},
   "outputs": [
    {
     "name": "stdout",
     "output_type": "stream",
     "text": [
      "M\n",
      "o\n",
      "r\n",
      "a\n",
      "a\n",
      " \n",
      "K\n",
      "i\n",
      "b\n",
      "a\n",
      "g\n",
      "e\n",
      "n\n",
      "d\n",
      "i\n"
     ]
    }
   ],
   "source": [
    "for chr in fullname: #chr is a variable,for loop, no variable definition is required\n",
    "    print(chr)"
   ]
  },
  {
   "cell_type": "code",
   "execution_count": 114,
   "id": "7af3be48-e6b4-481f-9bac-a92d80ce759c",
   "metadata": {},
   "outputs": [
    {
     "name": "stdout",
     "output_type": "stream",
     "text": [
      "1\n",
      "3\n",
      "5\n",
      "7\n",
      "9\n"
     ]
    }
   ],
   "source": [
    "for i in range(1,10,2):#2 represents the number of steps to be made\n",
    "    print (i)"
   ]
  },
  {
   "cell_type": "code",
   "execution_count": null,
   "id": "ce66fdb9-1b71-4a5c-b3a0-f419d46287be",
   "metadata": {},
   "outputs": [],
   "source": []
  }
 ],
 "metadata": {
  "kernelspec": {
   "display_name": "Python 3 (ipykernel)",
   "language": "python",
   "name": "python3"
  },
  "language_info": {
   "codemirror_mode": {
    "name": "ipython",
    "version": 3
   },
   "file_extension": ".py",
   "mimetype": "text/x-python",
   "name": "python",
   "nbconvert_exporter": "python",
   "pygments_lexer": "ipython3",
   "version": "3.12.4"
  }
 },
 "nbformat": 4,
 "nbformat_minor": 5
}
