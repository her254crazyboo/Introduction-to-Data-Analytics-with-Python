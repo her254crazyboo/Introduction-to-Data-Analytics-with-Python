{
 "cells": [
  {
   "cell_type": "code",
   "execution_count": 1,
   "id": "42c93fcc-45c1-46f6-a504-582b0cafd1d4",
   "metadata": {},
   "outputs": [],
   "source": [
    "grocery= [] #lists are rep by the square brackets"
   ]
  },
  {
   "cell_type": "code",
   "execution_count": 3,
   "id": "170c801e-fb10-4e6f-a134-e2a469a81bd1",
   "metadata": {},
   "outputs": [],
   "source": [
    "grocery= [\"tomatoes\", \"onions\", \"grapes\"]"
   ]
  },
  {
   "cell_type": "code",
   "execution_count": 7,
   "id": "5410db53-003c-43a1-9de5-f4de4c69a9ac",
   "metadata": {},
   "outputs": [
    {
     "name": "stdout",
     "output_type": "stream",
     "text": [
      "1\n"
     ]
    }
   ],
   "source": [
    "\n",
    "my_list = [1, 2, 3, 4, 5]\n",
    "print(my_list[0])"
   ]
  },
  {
   "cell_type": "code",
   "execution_count": 2,
   "id": "62893306-238f-4942-ad67-11aad9a5ce6a",
   "metadata": {},
   "outputs": [
    {
     "data": {
      "text/plain": [
       "'carrots'"
      ]
     },
     "execution_count": 2,
     "metadata": {},
     "output_type": "execute_result"
    }
   ],
   "source": [
    "grocery = [\"tomato\",\"onions\", \"carrots\",]\n",
    "grocery[2]"
   ]
  },
  {
   "cell_type": "code",
   "execution_count": 4,
   "id": "08b110d9-a2c0-437e-96c8-4a8b9b9287a1",
   "metadata": {},
   "outputs": [
    {
     "ename": "SyntaxError",
     "evalue": "invalid syntax. Maybe you meant '==' or ':=' instead of '='? (1922338793.py, line 1)",
     "output_type": "error",
     "traceback": [
      "\u001b[1;36m  Cell \u001b[1;32mIn[4], line 1\u001b[1;36m\u001b[0m\n\u001b[1;33m    if grocery = [\"tomato\"]\u001b[0m\n\u001b[1;37m       ^\u001b[0m\n\u001b[1;31mSyntaxError\u001b[0m\u001b[1;31m:\u001b[0m invalid syntax. Maybe you meant '==' or ':=' instead of '='?\n"
     ]
    }
   ],
   "source": [
    "if grocery = [\"tomato\"]\n",
    "    int = 0\n",
    "for item in grocery:\n",
    "\n",
    "  print(item)\n",
    "    If item =\"Onion\"\n",
    "      "
   ]
  },
  {
   "cell_type": "code",
   "execution_count": 6,
   "id": "203ce075-daaa-44a0-a036-59d4ed28bb39",
   "metadata": {},
   "outputs": [
    {
     "ename": "IndentationError",
     "evalue": "unexpected indent (992320196.py, line 6)",
     "output_type": "error",
     "traceback": [
      "\u001b[1;36m  Cell \u001b[1;32mIn[6], line 6\u001b[1;36m\u001b[0m\n\u001b[1;33m    print(grocery)}\u001b[0m\n\u001b[1;37m    ^\u001b[0m\n\u001b[1;31mIndentationError\u001b[0m\u001b[1;31m:\u001b[0m unexpected indent\n"
     ]
    }
   ],
   "source": [
    "indm=0\n",
    "for item in grocery:\n",
    "  print(item)\n",
    "    \n",
    "    \n",
    "    print(grocery)}"
   ]
  },
  {
   "cell_type": "code",
   "execution_count": 25,
   "id": "acf3c2f3-b940-42d7-b9d6-e51de3fc04d7",
   "metadata": {},
   "outputs": [
    {
     "data": {
      "text/plain": [
       "'onion'"
      ]
     },
     "execution_count": 25,
     "metadata": {},
     "output_type": "execute_result"
    }
   ],
   "source": [
    "grocery =[\"tomato\",\"onion\", \"carrots\"] #creating a list\n",
    "grocery[1]"
   ]
  },
  {
   "cell_type": "raw",
   "id": "c62996ee-c3ae-4978-a302-91caf990c071",
   "metadata": {},
   "source": [
    "grocery =['tomato',\"onion\", \"carrots\"] #ind-rep index\n",
    "ind= 0\n",
    "for item in grocery: #using for loop to iterate, missing a step\n",
    "   print (item)\n",
    "\n",
    "print(grocery)"
   ]
  },
  {
   "cell_type": "code",
   "execution_count": 29,
   "id": "266676c3-766f-465d-a132-2203da11259c",
   "metadata": {},
   "outputs": [
    {
     "name": "stdout",
     "output_type": "stream",
     "text": [
      "['Kitungu', 'wiu', 'onion']\n"
     ]
    }
   ],
   "source": [
    "grocery =[\"tomato\",\"onion\", \"carrots\"]\n",
    "ind = 0\n",
    "for item in grocery:\n",
    "        if item == \"onion\":\n",
    "            grocery[ind]=\"Kitungu\"\n",
    "ind= ind+1\n",
    "print(grocery)"
   ]
  },
  {
   "cell_type": "code",
   "execution_count": 31,
   "id": "182df655-f3cd-405b-b9b3-f5ce7c61441b",
   "metadata": {},
   "outputs": [
    {
     "name": "stdout",
     "output_type": "stream",
     "text": [
      "tomato\n",
      "onion\n",
      "carrots\n",
      "['tomato', 'onion', 'carrots']\n"
     ]
    }
   ],
   "source": [
    "grocery =[\"tomato\",\"onion\", \"carrots\"] #redo to better understand the concept.\n",
    "ind= 0\n",
    "\n",
    "for item in grocery:\n",
    "    print(item)\n",
    "    \n",
    "print(grocery)    "
   ]
  },
  {
   "cell_type": "code",
   "execution_count": 35,
   "id": "883314f2-4c9c-4fde-9a39-b0087c5721d7",
   "metadata": {},
   "outputs": [
    {
     "name": "stdout",
     "output_type": "stream",
     "text": [
      "['tomato', 'onion', 'carrots']\n"
     ]
    }
   ],
   "source": [
    "grocery =[\"tomato\",\"onion\", \"carrots\"]\n",
    "ind = 0\n",
    "for item in grocery:\n",
    "        if item == \"carrot\":\n",
    "            grocery[ind]=\"onion\"\n",
    "ind= ind+1\n",
    "print(grocery)"
   ]
  },
  {
   "cell_type": "code",
   "execution_count": 41,
   "id": "3e2e60b1-614f-4fca-820c-ef23f492fe06",
   "metadata": {},
   "outputs": [
    {
     "name": "stdout",
     "output_type": "stream",
     "text": [
      "['tomato', 'onion', 'carrots', 'cabbage']\n"
     ]
    }
   ],
   "source": [
    "grocery. append('cabbage') #.is used to call that function/method.  Append-used to add a forgotten something to the list.\n",
    "print(grocery)"
   ]
  },
  {
   "cell_type": "code",
   "execution_count": 43,
   "id": "e76d46a5-7009-4a0f-a721-344140a757c5",
   "metadata": {},
   "outputs": [
    {
     "data": {
      "text/plain": [
       "['tomato', 'onion', 'carrots', 'cabbage']"
      ]
     },
     "execution_count": 43,
     "metadata": {},
     "output_type": "execute_result"
    }
   ],
   "source": [
    "grocery. copy()"
   ]
  },
  {
   "cell_type": "code",
   "execution_count": 45,
   "id": "55c9c787-a38a-45f2-bf76-98c20d63a3ee",
   "metadata": {},
   "outputs": [],
   "source": [
    "grocery. sort()"
   ]
  },
  {
   "cell_type": "code",
   "execution_count": null,
   "id": "d1868c72-35b2-41e0-836b-30d4dced6c26",
   "metadata": {},
   "outputs": [],
   "source": [
    "                       "
   ]
  }
 ],
 "metadata": {
  "kernelspec": {
   "display_name": "Python 3 (ipykernel)",
   "language": "python",
   "name": "python3"
  },
  "language_info": {
   "codemirror_mode": {
    "name": "ipython",
    "version": 3
   },
   "file_extension": ".py",
   "mimetype": "text/x-python",
   "name": "python",
   "nbconvert_exporter": "python",
   "pygments_lexer": "ipython3",
   "version": "3.12.4"
  }
 },
 "nbformat": 4,
 "nbformat_minor": 5
}
