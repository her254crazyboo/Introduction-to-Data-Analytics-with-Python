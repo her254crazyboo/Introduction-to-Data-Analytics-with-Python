{
 "cells": [
  {
   "cell_type": "code",
   "execution_count": 1,
   "id": "808d5dd5-fbba-44f4-b167-e0f50166443f",
   "metadata": {},
   "outputs": [],
   "source": [
    "first= \"Salome\"\n",
    "second= \"Moraa\"\n",
    "third = \"Kibagendi\""
   ]
  },
  {
   "cell_type": "code",
   "execution_count": 2,
   "id": "c6a5bdf5-2102-4259-9515-20da8a445086",
   "metadata": {},
   "outputs": [
    {
     "data": {
      "text/plain": [
       "'SalomeMoraaKibagendi'"
      ]
     },
     "execution_count": 2,
     "metadata": {},
     "output_type": "execute_result"
    }
   ],
   "source": [
    "first+second+third #+represesnts concatenatio"
   ]
  },
  {
   "cell_type": "code",
   "execution_count": 3,
   "id": "3f83aa28-0427-4f45-8a16-83ccf3408fb5",
   "metadata": {},
   "outputs": [
    {
     "data": {
      "text/plain": [
       "'Salome Moraa Kibagendi'"
      ]
     },
     "execution_count": 3,
     "metadata": {},
     "output_type": "execute_result"
    }
   ],
   "source": [
    "first+ \" \"+second+ \" \"+third  #multiple quotes and space rep spacing "
   ]
  },
  {
   "cell_type": "code",
   "execution_count": 4,
   "id": "fbc0e287-18af-480d-a43b-207ddb6aad2e",
   "metadata": {},
   "outputs": [
    {
     "data": {
      "text/plain": [
       "'SalomeSalome'"
      ]
     },
     "execution_count": 4,
     "metadata": {},
     "output_type": "execute_result"
    }
   ],
   "source": [
    "first*2 #*rep repetition"
   ]
  },
  {
   "cell_type": "code",
   "execution_count": 5,
   "id": "abb5e750-35bc-407e-a3c2-3062750daeea",
   "metadata": {},
   "outputs": [
    {
     "data": {
      "text/plain": [
       "'MoraaMoraaMoraa'"
      ]
     },
     "execution_count": 5,
     "metadata": {},
     "output_type": "execute_result"
    }
   ],
   "source": [
    "second*3"
   ]
  },
  {
   "cell_type": "code",
   "execution_count": 6,
   "id": "7a901c6f-3cf3-4872-93d3-60775b0ec1c0",
   "metadata": {},
   "outputs": [],
   "source": [
    "second =\"Moraa\" #Indexing is rep by square brackets[]"
   ]
  },
  {
   "cell_type": "code",
   "execution_count": 7,
   "id": "ed882ae2-5e66-446c-96ca-c6b6849f351c",
   "metadata": {},
   "outputs": [
    {
     "data": {
      "text/plain": [
       "'M'"
      ]
     },
     "execution_count": 7,
     "metadata": {},
     "output_type": "execute_result"
    }
   ],
   "source": [
    "second[0]"
   ]
  },
  {
   "cell_type": "code",
   "execution_count": 8,
   "id": "4e2bcf53-74ac-4838-a1d1-0739d21edf0d",
   "metadata": {},
   "outputs": [
    {
     "data": {
      "text/plain": [
       "'M'"
      ]
     },
     "execution_count": 8,
     "metadata": {},
     "output_type": "execute_result"
    }
   ],
   "source": [
    "second [0]"
   ]
  },
  {
   "cell_type": "code",
   "execution_count": 9,
   "id": "e2a76c8a-f54a-45b8-9638-21286644de82",
   "metadata": {},
   "outputs": [
    {
     "data": {
      "text/plain": [
       "'o'"
      ]
     },
     "execution_count": 9,
     "metadata": {},
     "output_type": "execute_result"
    }
   ],
   "source": [
    "second [1]"
   ]
  },
  {
   "cell_type": "code",
   "execution_count": 10,
   "id": "9232ce4e-a9d5-482f-a8d0-6d9cc22ddf92",
   "metadata": {},
   "outputs": [
    {
     "data": {
      "text/plain": [
       "'Salome Moraa'"
      ]
     },
     "execution_count": 10,
     "metadata": {},
     "output_type": "execute_result"
    }
   ],
   "source": [
    "fullname=first+\" \"+second\n",
    "fullname"
   ]
  },
  {
   "cell_type": "code",
   "execution_count": 11,
   "id": "bb7d4008-12f4-443f-b33f-50b9399a583b",
   "metadata": {},
   "outputs": [
    {
     "data": {
      "text/plain": [
       "'Salome '"
      ]
     },
     "execution_count": 11,
     "metadata": {},
     "output_type": "execute_result"
    }
   ],
   "source": [
    "fullname[0:7] #colon gives the command to count from the number 0 to the last number in the word"
   ]
  },
  {
   "cell_type": "code",
   "execution_count": 12,
   "id": "d5625e78-df44-48a5-80d5-37b67dc861d2",
   "metadata": {},
   "outputs": [
    {
     "data": {
      "text/plain": [
       "'Moraa'"
      ]
     },
     "execution_count": 12,
     "metadata": {},
     "output_type": "execute_result"
    }
   ],
   "source": [
    "fullname[7:13] #python counts the steps, including the spaces, when one wants to derive only a word it's called slicing"
   ]
  },
  {
   "cell_type": "code",
   "execution_count": 13,
   "id": "6e59695b-9dec-460a-8b95-6abe7d3fb2c6",
   "metadata": {},
   "outputs": [
    {
     "data": {
      "text/plain": [
       "'Moraa Kibagendi'"
      ]
     },
     "execution_count": 13,
     "metadata": {},
     "output_type": "execute_result"
    }
   ],
   "source": [
    "fullname=second+\" \"+third\n",
    "fullname"
   ]
  },
  {
   "cell_type": "code",
   "execution_count": 14,
   "id": "318bd626-e21f-4227-8e00-36c1884900f2",
   "metadata": {},
   "outputs": [
    {
     "data": {
      "text/plain": [
       "'Moraa'"
      ]
     },
     "execution_count": 14,
     "metadata": {},
     "output_type": "execute_result"
    }
   ],
   "source": [
    "fullname[0:5]"
   ]
  },
  {
   "cell_type": "code",
   "execution_count": 15,
   "id": "44a978be-1f34-40e3-8939-9ed6edb92731",
   "metadata": {},
   "outputs": [
    {
     "data": {
      "text/plain": [
       "'Kibagendi'"
      ]
     },
     "execution_count": 15,
     "metadata": {},
     "output_type": "execute_result"
    }
   ],
   "source": [
    "fullname[6:16]"
   ]
  },
  {
   "cell_type": "code",
   "execution_count": 1,
   "id": "02e8306b-fe5e-4f4f-af0f-5ff6df5ff638",
   "metadata": {},
   "outputs": [
    {
     "name": "stdin",
     "output_type": "stream",
     "text": [
      "enter first name  34\n"
     ]
    }
   ],
   "source": [
    "name=input(\"enter first name \")"
   ]
  },
  {
   "cell_type": "code",
   "execution_count": null,
   "id": "d7643e0b-13a8-42df-a112-be89de2867d8",
   "metadata": {},
   "outputs": [],
   "source": [
    "name=input(\"enter second name: \") #after input click enter for python to understand you're done."
   ]
  },
  {
   "cell_type": "code",
   "execution_count": null,
   "id": "bd4885c8-b430-40d0-872e-2a88322fa619",
   "metadata": {},
   "outputs": [],
   "source": [
    "print(name) "
   ]
  },
  {
   "cell_type": "code",
   "execution_count": null,
   "id": "d47c6d3c-d437-49ea-b160-1d06ed2694ff",
   "metadata": {},
   "outputs": [],
   "source": [
    "name=input(\"enter third name: \")\n",
    " "
   ]
  },
  {
   "cell_type": "code",
   "execution_count": null,
   "id": "02c0e404-9daf-4f03-94ce-cf9831385b31",
   "metadata": {},
   "outputs": [],
   "source": [
    "print(name)"
   ]
  },
  {
   "cell_type": "code",
   "execution_count": null,
   "id": "0560b0da-bf8a-472d-a3f0-8464a784ce9d",
   "metadata": {},
   "outputs": [],
   "source": [
    "for i in range (11): #i rep iteration-conditions being met\n",
    "    print(i)"
   ]
  },
  {
   "cell_type": "code",
   "execution_count": null,
   "id": "98c5788c-64e3-4924-8fde-6d3532093eec",
   "metadata": {},
   "outputs": [],
   "source": [
    "for chr in fullname: #chr is a variable,for loop, no variable definition is required\n",
    "    print(chr)"
   ]
  },
  {
   "cell_type": "code",
   "execution_count": null,
   "id": "7af3be48-e6b4-481f-9bac-a92d80ce759c",
   "metadata": {},
   "outputs": [],
   "source": [
    "for i in range(1,10,2):#2 represents the number of steps to be made\n",
    "    print (i)"
   ]
  },
  {
   "cell_type": "code",
   "execution_count": null,
   "id": "ce66fdb9-1b71-4a5c-b3a0-f419d46287be",
   "metadata": {},
   "outputs": [],
   "source": [
    "\"\"\"\n",
    "for loop is used to get a series and sequencies\n",
    "    as seen in excel.\n",
    "\"\"\"    \n",
    "    \n",
    "    \n",
    "#1,2,3, 4, 5, 6, 7, 8, 9,10\n",
    "for x in range(1,11):\n",
    "    print (x)"
   ]
  },
  {
   "cell_type": "code",
   "execution_count": null,
   "id": "21e6a0ba-dfb2-4ba3-8030-c85aa79b7979",
   "metadata": {},
   "outputs": [],
   "source": [
    "#1,2,3, 4, 5, 6, 7, 8, 9,10\n",
    "for x in range(1,11):\n",
    "    print (x)"
   ]
  },
  {
   "cell_type": "code",
   "execution_count": null,
   "id": "93def2bc-3b6c-4c55-b570-728d428e6d09",
   "metadata": {},
   "outputs": [],
   "source": [
    "\"\"\"\n",
    "if we wantto tell python to print in a straight line, \n",
    "we will use end\n",
    "\"\"\"\n",
    "\n",
    "#1,2,3, 4, 5, 6, 7, 8, 9,10\n",
    "for x in range(1,11):\n",
    "    print (x,end=', ')\n"
   ]
  },
  {
   "cell_type": "code",
   "execution_count": 11,
   "id": "184664be-1cad-4d69-80f1-5205b1cd4473",
   "metadata": {},
   "outputs": [
    {
     "name": "stdout",
     "output_type": "stream",
     "text": [
      "1,2,3,4,5,6,7,8,9,10,\n",
      " 55\n"
     ]
    }
   ],
   "source": [
    "#1,2,3, 4, 5, 6, 7, 8, 9,10\n",
    "total=0\n",
    "\n",
    "for x in range(1,11): # in this code, we have not given the directive for how many steps to be taken\n",
    "    total+=x\n",
    "    print(x, end= \",\")\n",
    "\n",
    "print('\\n' , total)\n",
    "    "
   ]
  },
  {
   "cell_type": "code",
   "execution_count": null,
   "id": "1f5d8534-4222-4292-a44f-989de47c9eb5",
   "metadata": {},
   "outputs": [],
   "source": []
  },
  {
   "cell_type": "code",
   "execution_count": 9,
   "id": "c1ded1aa-72b9-4c91-b9e3-3748c55da080",
   "metadata": {},
   "outputs": [
    {
     "name": "stdout",
     "output_type": "stream",
     "text": [
      "2 , 4 , 6 , 8 , 10 , "
     ]
    }
   ],
   "source": [
    "# 2,4,6,8,10\n",
    "for x in range (2,11,2): #2 indicates the number of steps to be taken/skipped\n",
    "    print (x, end = \" , \")"
   ]
  },
  {
   "cell_type": "code",
   "execution_count": 7,
   "id": "2bde4710-5ccb-4399-8e3a-6cb0ad02528e",
   "metadata": {},
   "outputs": [
    {
     "name": "stdout",
     "output_type": "stream",
     "text": [
      "1\n",
      "5\n",
      "9\n",
      "13\n",
      "17\n",
      "21\n",
      "25\n",
      "29\n",
      "33\n"
     ]
    }
   ],
   "source": [
    "for x in range (1,36,4): #when there are three(1,36,4) the 4 indicates the number of steps to be taken hence giving it a directive\n",
    "    print(x)"
   ]
  },
  {
   "cell_type": "code",
   "execution_count": 5,
   "id": "595cde0b-ffc4-457f-ab29-74818907d3a2",
   "metadata": {},
   "outputs": [
    {
     "name": "stdin",
     "output_type": "stream",
     "text": [
      "Enter Age:  60\n",
      "Enter Age:  56\n",
      "Enter Age:  70\n",
      "Enter Age:  70\n"
     ]
    },
    {
     "name": "stdout",
     "output_type": "stream",
     "text": [
      "256 64.0\n"
     ]
    }
   ],
   "source": [
    "x=int(input(\"Enter Age: \"))\n",
    "y=int(input(\"Enter Age: \"))\n",
    "z=int(input(\"Enter Age: \"))\n",
    "xy=int(input(\"Enter Age: \"))\n",
    "\n",
    "total = x+y+z+xy\n",
    "average = total/4\n",
    "\n",
    "print(total, average)\n",
    "\n",
    "    "
   ]
  },
  {
   "cell_type": "code",
   "execution_count": 3,
   "id": "94e13bde-e114-4271-8a05-fafac9ef3c7f",
   "metadata": {},
   "outputs": [
    {
     "name": "stdin",
     "output_type": "stream",
     "text": [
      "Enter Age 675\n",
      "Enter Age 15\n",
      "Enter Age 30\n",
      "Enter Age 20\n"
     ]
    },
    {
     "name": "stdout",
     "output_type": "stream",
     "text": [
      "\n",
      " 740 185.0\n"
     ]
    }
   ],
   "source": [
    "total= 0\n",
    "for x in range (4):\n",
    "    x= int(input(\"Enter Age\"))\n",
    "    total +=x\n",
    "\n",
    "\n",
    "print('\\n', total, total/4) "
   ]
  },
  {
   "cell_type": "code",
   "execution_count": 17,
   "id": "9c29a867-db46-42db-8cf5-129d0b55112f",
   "metadata": {},
   "outputs": [
    {
     "name": "stdin",
     "output_type": "stream",
     "text": [
      "Enter Score:  14\n",
      "Enter Score:  86\n",
      "Enter Score:  4\n",
      "Enter Score:  98\n",
      "Enter Score:  200\n"
     ]
    },
    {
     "name": "stdout",
     "output_type": "stream",
     "text": [
      "402 80.4\n"
     ]
    }
   ],
   "source": [
    "x=int(input(\"Enter Score: \"))\n",
    "y=int(input(\"Enter Score: \"))\n",
    "z=int(input(\"Enter Score: \"))\n",
    "xy=int(input(\"Enter Score: \"))\n",
    "xyz=int(input(\"Enter Score: \"))\n",
    "\n",
    "total = x+y+z+xy+xyz\n",
    "average = total/5\n",
    "\n",
    "print(total, average)\n",
    "\n",
    "\n"
   ]
  },
  {
   "cell_type": "code",
   "execution_count": 29,
   "id": "c07493e4-80e1-419e-8dca-21c81d44519b",
   "metadata": {},
   "outputs": [
    {
     "name": "stdin",
     "output_type": "stream",
     "text": [
      "Enter Score:  45\n",
      "Enter Score:  50\n",
      "Enter Score:  90\n",
      "Enter Score:  65\n",
      "Enter Score:  6\n"
     ]
    },
    {
     "name": "stdout",
     "output_type": "stream",
     "text": [
      "\n",
      " 256 51.2\n"
     ]
    }
   ],
   "source": [
    "total= 0\n",
    "for y in range (5):\n",
    "    y=int(input(\"Enter Score: \"))\n",
    "    total +=y\n",
    "\n",
    "\n",
    "print('\\n', total, total/5) # n used to tell the python to print in one line.\n",
    "     \n",
    "    \n",
    "    \n",
    "                "
   ]
  },
  {
   "cell_type": "code",
   "execution_count": null,
   "id": "881556da-ae11-467d-a977-a3fa865cfdbc",
   "metadata": {},
   "outputs": [],
   "source": []
  },
  {
   "cell_type": "code",
   "execution_count": 31,
   "id": "a2483662-3853-460a-8ee2-04292649f2d5",
   "metadata": {},
   "outputs": [
    {
     "name": "stdin",
     "output_type": "stream",
     "text": [
      "Enter Age:  45\n",
      "Enter Age:  56\n",
      "Enter Age:  67\n",
      "Enter Age:  65\n"
     ]
    },
    {
     "name": "stdout",
     "output_type": "stream",
     "text": [
      "122.25\n"
     ]
    }
   ],
   "source": [
    "\"\"\"\n",
    "in while loop, the variable is defined first.\n",
    "\n",
    "\"\"\"\n",
    "count= 0\n",
    "while count < 4:\n",
    "    x=int(input(\"Enter Age: \"))\n",
    "    total +=x\n",
    "    count +=1\n",
    "    \n",
    "print(total/count)\n",
    "\n",
    "    \n"
   ]
  },
  {
   "cell_type": "code",
   "execution_count": 45,
   "id": "c66f3030-479b-4262-b946-603f433ffaf4",
   "metadata": {},
   "outputs": [
    {
     "ename": "SyntaxError",
     "evalue": "expected ':' (3979872494.py, line 2)",
     "output_type": "error",
     "traceback": [
      "\u001b[1;36m  Cell \u001b[1;32mIn[45], line 2\u001b[1;36m\u001b[0m\n\u001b[1;33m    while count < 10\u001b[0m\n\u001b[1;37m                    ^\u001b[0m\n\u001b[1;31mSyntaxError\u001b[0m\u001b[1;31m:\u001b[0m expected ':'\n"
     ]
    }
   ],
   "source": [
    "count = 0 #more work,\n",
    "while count < 10\n",
    "  x=int(input(\"Enter Name\"))\n",
    "    total +=x\n",
    "    count +=2\n",
    "\n",
    "print(total/count)\n"
   ]
  },
  {
   "cell_type": "code",
   "execution_count": 53,
   "id": "b67cb895-d044-40fe-9dbe-7e44c944b8a2",
   "metadata": {},
   "outputs": [
    {
     "name": "stdout",
     "output_type": "stream",
     "text": [
      "E\n"
     ]
    }
   ],
   "source": [
    "\"\"\" conditioning statement\n",
    "else, elif, if\n",
    "\n",
    "\"\"\"\n",
    "score= 30\n",
    "\n",
    "if score >=90:  #more work to be done, zero content\n",
    "    print(\"A\")\n",
    "elif score >=80:\n",
    "    print(\"B\")\n",
    "elif score >=70:\n",
    "    print(\"C\")\n",
    "elif score >=60:\n",
    "    print(\"D\")\n",
    "else:\n",
    "    print(\"E\")"
   ]
  },
  {
   "cell_type": "code",
   "execution_count": 55,
   "id": "9a8916ca-fedc-4241-8cd8-02e4390a3622",
   "metadata": {},
   "outputs": [
    {
     "name": "stdin",
     "output_type": "stream",
     "text": [
      "name Salome\n",
      "name Moraa\n",
      "name rhoda\n"
     ]
    }
   ],
   "source": [
    "check= True\n",
    "while check:\n",
    "    name=input('name')\n",
    "    if \"rhoda\" in name:\n",
    "        check= False\n",
    "      "
   ]
  },
  {
   "cell_type": "code",
   "execution_count": 61,
   "id": "032973ee-b691-4614-a1df-e2be722ecd63",
   "metadata": {},
   "outputs": [
    {
     "name": "stdout",
     "output_type": "stream",
     "text": [
      "z\n"
     ]
    }
   ],
   "source": [
    "score= 80 #slow progress\n",
    "\n",
    "if score >=90:  #more work to be done, zero content\n",
    "    print(\"x\")\n",
    "elif score >=95:\n",
    "    print(\"y\")\n",
    "elif score >=15:\n",
    "    print(\"z\")\n",
    "elif score >=80:\n",
    "    print(\"D\")\n",
    "else:\n",
    "    print(\"E\")"
   ]
  },
  {
   "cell_type": "code",
   "execution_count": 63,
   "id": "27ef0570-08c7-412b-a3ee-3557d41b6122",
   "metadata": {},
   "outputs": [
    {
     "name": "stdout",
     "output_type": "stream",
     "text": [
      "y\n"
     ]
    }
   ],
   "source": [
    "score= 20 #slow progress\n",
    "\n",
    "if score >=90:  #more work to be done, zero content\n",
    "    print(\"x\")\n",
    "elif score <=25:\n",
    "    print(\"y\")\n",
    "elif score >=5:\n",
    "    print(\"z\")\n",
    "elif score >=80:\n",
    "    print(\"D\")\n",
    "else:\n",
    "    print(\"E\")"
   ]
  },
  {
   "cell_type": "code",
   "execution_count": 13,
   "id": "2f9500e3-5c9b-4d39-92da-6d943cb9121d",
   "metadata": {},
   "outputs": [
    {
     "data": {
      "text/plain": [
       "'\\nfunction- a reusable block of code\\nparameter- holds an argument\\n\\n'"
      ]
     },
     "execution_count": 13,
     "metadata": {},
     "output_type": "execute_result"
    }
   ],
   "source": [
    "\"\"\"\n",
    "function- a reusable block of code\n",
    "parameter- holds an argument\n",
    "\n",
    "\"\"\""
   ]
  },
  {
   "cell_type": "code",
   "execution_count": 17,
   "id": "549b42cf-3efc-45d3-90a5-655b9d066bce",
   "metadata": {},
   "outputs": [],
   "source": [
    "def Orange(): #repeat \n",
    "    print(\"Hello World\")"
   ]
  },
  {
   "cell_type": "code",
   "execution_count": 9,
   "id": "91fc3f4d-dad4-49b6-aa2d-57e5619aa5ce",
   "metadata": {},
   "outputs": [],
   "source": [
    "def Orange(): \n",
    "    print(\"Maandamano\")"
   ]
  },
  {
   "cell_type": "code",
   "execution_count": 11,
   "id": "4afd2582-3ea6-48f3-a237-15c5628064d7",
   "metadata": {},
   "outputs": [],
   "source": [
    "def greet(name):\n",
    "    Print(\"Hello\", name)\n",
    "    "
   ]
  },
  {
   "cell_type": "code",
   "execution_count": null,
   "id": "5c3ddabf-0ddf-45df-a2c0-fe3bd1ec4413",
   "metadata": {},
   "outputs": [],
   "source": [
    "Orang"
   ]
  }
 ],
 "metadata": {
  "kernelspec": {
   "display_name": "Python 3 (ipykernel)",
   "language": "python",
   "name": "python3"
  },
  "language_info": {
   "codemirror_mode": {
    "name": "ipython",
    "version": 3
   },
   "file_extension": ".py",
   "mimetype": "text/x-python",
   "name": "python",
   "nbconvert_exporter": "python",
   "pygments_lexer": "ipython3",
   "version": "3.12.4"
  }
 },
 "nbformat": 4,
 "nbformat_minor": 5
}
