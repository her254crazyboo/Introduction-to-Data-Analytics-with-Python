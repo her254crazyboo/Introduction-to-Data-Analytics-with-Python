{
 "cells": [
  {
   "cell_type": "code",
   "execution_count": 23,
   "id": "f387e49b-25b4-4aae-8461-3a3514f1a8d0",
   "metadata": {},
   "outputs": [
    {
     "name": "stdout",
     "output_type": "stream",
     "text": [
      "{'firstname': 'Salome', 'lastname': 'Moraa'}\n"
     ]
    }
   ],
   "source": [
    "my_key = {\"firstname\":\"Salome\",\"lastname\":\"Moraa\"}\n",
    "print (my_key)"
   ]
  },
  {
   "cell_type": "code",
   "execution_count": 27,
   "id": "b9032f4c-bce7-4d78-9ff4-dd60a628d0e1",
   "metadata": {},
   "outputs": [
    {
     "name": "stdout",
     "output_type": "stream",
     "text": [
      "['firstname']\n"
     ]
    }
   ],
   "source": [
    "print ([\"firstname\"]) #not understanding this correctly, needs more work to recall"
   ]
  },
  {
   "cell_type": "code",
   "execution_count": 29,
   "id": "e2d7868b-144c-4cb4-97ea-05f763e28178",
   "metadata": {},
   "outputs": [],
   "source": [
    "df=my_key"
   ]
  },
  {
   "cell_type": "code",
   "execution_count": 33,
   "id": "f3693ece-9074-4be2-8ba5-ca3ca5d03865",
   "metadata": {},
   "outputs": [
    {
     "data": {
      "text/plain": [
       "{'firstname': 'Salome', 'lastname': 'Moraa'}"
      ]
     },
     "execution_count": 33,
     "metadata": {},
     "output_type": "execute_result"
    }
   ],
   "source": [
    "df"
   ]
  },
  {
   "cell_type": "code",
   "execution_count": 37,
   "id": "8b07e45d-2628-4598-8954-ce5ce6cf6b1d",
   "metadata": {},
   "outputs": [],
   "source": [
    "df = \"salome\""
   ]
  },
  {
   "cell_type": "code",
   "execution_count": 39,
   "id": "0ae99ee9-01eb-4e18-a424-5bf144781c61",
   "metadata": {},
   "outputs": [
    {
     "data": {
      "text/plain": [
       "'salome'"
      ]
     },
     "execution_count": 39,
     "metadata": {},
     "output_type": "execute_result"
    }
   ],
   "source": [
    "df"
   ]
  },
  {
   "cell_type": "code",
   "execution_count": 45,
   "id": "8a827fba-cb39-4432-9e4e-23c7216b4ef2",
   "metadata": {},
   "outputs": [
    {
     "ename": "AttributeError",
     "evalue": "'str' object has no attribute 'loc'",
     "output_type": "error",
     "traceback": [
      "\u001b[1;31m---------------------------------------------------------------------------\u001b[0m",
      "\u001b[1;31mAttributeError\u001b[0m                            Traceback (most recent call last)",
      "Cell \u001b[1;32mIn[45], line 1\u001b[0m\n\u001b[1;32m----> 1\u001b[0m df\u001b[38;5;241m.\u001b[39mloc[\u001b[38;5;241m0\u001b[39m:\u001b[38;5;241m7\u001b[39m]\n",
      "\u001b[1;31mAttributeError\u001b[0m: 'str' object has no attribute 'loc'"
     ]
    }
   ],
   "source": [
    "df.loc[0:7]"
   ]
  },
  {
   "cell_type": "code",
   "execution_count": null,
   "id": "51e618a1-4f84-4f50-8be6-d1a048bd34c7",
   "metadata": {},
   "outputs": [],
   "source": [
    "dictionary = [\n",
    "    \"AgeGroup\":[\"0-5\",\"6-10\", \"11-15\"]\n",
    "]\n",
    "import pandas as pd\n",
    "data =pd.DataFrame(dictionary)"
   ]
  }
 ],
 "metadata": {
  "kernelspec": {
   "display_name": "Python 3 (ipykernel)",
   "language": "python",
   "name": "python3"
  },
  "language_info": {
   "codemirror_mode": {
    "name": "ipython",
    "version": 3
   },
   "file_extension": ".py",
   "mimetype": "text/x-python",
   "name": "python",
   "nbconvert_exporter": "python",
   "pygments_lexer": "ipython3",
   "version": "3.12.4"
  }
 },
 "nbformat": 4,
 "nbformat_minor": 5
}
